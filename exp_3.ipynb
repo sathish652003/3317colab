{
  "nbformat": 4,
  "nbformat_minor": 0,
  "metadata": {
    "colab": {
      "provenance": [],
      "authorship_tag": "ABX9TyNWlNbdmrA7A7RucZCwLHMa",
      "include_colab_link": true
    },
    "kernelspec": {
      "name": "python3",
      "display_name": "Python 3"
    },
    "language_info": {
      "name": "python"
    }
  },
  "cells": [
    {
      "cell_type": "markdown",
      "metadata": {
        "id": "view-in-github",
        "colab_type": "text"
      },
      "source": [
        "<a href=\"https://colab.research.google.com/github/sathish652003/3317colab/blob/main/exp_3.ipynb\" target=\"_parent\"><img src=\"https://colab.research.google.com/assets/colab-badge.svg\" alt=\"Open In Colab\"/></a>"
      ]
    },
    {
      "cell_type": "code",
      "source": [
        "import numpy as np\n",
        "import tensorflow as tf\n",
        "from tensorflow.keras.models import Sequential\n",
        "from tensorflow.keras.layers import Dense,Input\n",
        "from sklearn.model_selection import train_test_split\n",
        "from sklearn.metrics import accuracy_score\n",
        "np.random.seed(42)\n",
        "X = np.random.rand(1000, 2)\n",
        "y = (X[:, 0] + X[:, 1] > 1).astype(int)\n",
        "X_train, X_test, y_train, y_test = train_test_split(X, y, test_size=0.2,\n",
        "random_state=42)\n",
        "model = Sequential([Input(shape=(2)),Dense(64, activation='relu'),Dense(1,\n",
        "activation='sigmoid')])\n",
        "model.compile(optimizer='adam',loss='binary_crossentropy',metrics=['accuracy'])\n",
        "model.fit(X_train, y_train, epochs=10, batch_size=32, validation_split=0.2)\n",
        "y_pred = model.predict(X_test)\n",
        "y_pred_binary = (y_pred > 0.5).astype(int)\n",
        "test_accuracy = accuracy_score(y_test, y_pred_binary)\n",
        "print(f\"Test accuracy: {test_accuracy:.4f}\")"
      ],
      "metadata": {
        "colab": {
          "base_uri": "https://localhost:8080/"
        },
        "id": "SFX1H4pd4Qya",
        "outputId": "f9cc1a35-faad-4668-b584-f5205a3da826"
      },
      "execution_count": 2,
      "outputs": [
        {
          "output_type": "stream",
          "name": "stdout",
          "text": [
            "Epoch 1/10\n",
            "20/20 [==============================] - 2s 56ms/step - loss: 0.6922 - accuracy: 0.5859 - val_loss: 0.6780 - val_accuracy: 0.6562\n",
            "Epoch 2/10\n",
            "20/20 [==============================] - 0s 14ms/step - loss: 0.6721 - accuracy: 0.6062 - val_loss: 0.6521 - val_accuracy: 0.6625\n",
            "Epoch 3/10\n",
            "20/20 [==============================] - 0s 17ms/step - loss: 0.6529 - accuracy: 0.6625 - val_loss: 0.6317 - val_accuracy: 0.7437\n",
            "Epoch 4/10\n",
            "20/20 [==============================] - 0s 18ms/step - loss: 0.6338 - accuracy: 0.7156 - val_loss: 0.6119 - val_accuracy: 0.7500\n",
            "Epoch 5/10\n",
            "20/20 [==============================] - 0s 13ms/step - loss: 0.6141 - accuracy: 0.7672 - val_loss: 0.5908 - val_accuracy: 0.7812\n",
            "Epoch 6/10\n",
            "20/20 [==============================] - 0s 17ms/step - loss: 0.5922 - accuracy: 0.7984 - val_loss: 0.5685 - val_accuracy: 0.8188\n",
            "Epoch 7/10\n",
            "20/20 [==============================] - 0s 19ms/step - loss: 0.5711 - accuracy: 0.8594 - val_loss: 0.5493 - val_accuracy: 0.9000\n",
            "Epoch 8/10\n",
            "20/20 [==============================] - 0s 16ms/step - loss: 0.5455 - accuracy: 0.8656 - val_loss: 0.5229 - val_accuracy: 0.8813\n",
            "Epoch 9/10\n",
            "20/20 [==============================] - 0s 10ms/step - loss: 0.5208 - accuracy: 0.8703 - val_loss: 0.5008 - val_accuracy: 0.9312\n",
            "Epoch 10/10\n",
            "20/20 [==============================] - 0s 9ms/step - loss: 0.4953 - accuracy: 0.9000 - val_loss: 0.4776 - val_accuracy: 0.9688\n",
            "7/7 [==============================] - 0s 2ms/step\n",
            "Test accuracy: 0.9200\n"
          ]
        }
      ]
    }
  ]
}