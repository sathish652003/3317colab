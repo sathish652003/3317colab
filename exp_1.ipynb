{
  "nbformat": 4,
  "nbformat_minor": 0,
  "metadata": {
    "colab": {
      "provenance": [],
      "authorship_tag": "ABX9TyMn+sGv7FS+HpT7hx0OqqPf",
      "include_colab_link": true
    },
    "kernelspec": {
      "name": "python3",
      "display_name": "Python 3"
    },
    "language_info": {
      "name": "python"
    }
  },
  "cells": [
    {
      "cell_type": "markdown",
      "metadata": {
        "id": "view-in-github",
        "colab_type": "text"
      },
      "source": [
        "<a href=\"https://colab.research.google.com/github/sathish652003/3317colab/blob/main/exp_1.ipynb\" target=\"_parent\"><img src=\"https://colab.research.google.com/assets/colab-badge.svg\" alt=\"Open In Colab\"/></a>"
      ]
    },
    {
      "cell_type": "code",
      "execution_count": 1,
      "metadata": {
        "colab": {
          "base_uri": "https://localhost:8080/"
        },
        "id": "-hPJB0byDXoc",
        "outputId": "027e2cba-2c84-4fb9-c403-6a50d971832f"
      },
      "outputs": [
        {
          "output_type": "stream",
          "name": "stdout",
          "text": [
            "TF imported with eager execution!\n",
            "even: tf.Tensor([ 2  4  6  8 10 12], shape=(6,), dtype=int32)\n",
            "ones: tf.Tensor([1 1 1 1 1 1], shape=(6,), dtype=int32)\n",
            "just_beyond_evens: tf.Tensor([ 3  5  7  9 11 13], shape=(6,), dtype=int32)\n",
            "evens_doubled: tf.Tensor([ 4  8 12 16 20 24], shape=(6,), dtype=int32)\n",
            "tf.Tensor(\n",
            "[[1 2 3]\n",
            " [4 5 6]], shape=(2, 3), dtype=int32)\n",
            "\n",
            "value of some_matrix is:\n",
            " [[1 2 3]\n",
            " [4 5 6]]\n"
          ]
        }
      ],
      "source": [
        "import tensorflow as tf\n",
        "try:\n",
        " tf.executing_eagerly()\n",
        " print(\"TF imported with eager execution!\")\n",
        "except ValueError:\n",
        " print(\"TF already imported with eager execution!\")\n",
        "evens = tf.constant([2, 4, 6, 8, 10, 12], dtype=tf.int32)\n",
        "print(\"even:\", evens)\n",
        "ones = tf.ones([6], dtype=tf.int32)\n",
        "print(\"ones:\", ones)\n",
        "just_beyond_evens = tf.add(evens, ones)\n",
        "print(\"just_beyond_evens:\", just_beyond_evens)\n",
        "twos = tf.constant([2, 2, 2, 2, 2, 2], dtype=tf.int32)\n",
        "evens_doubled = evens * twos\n",
        "print(\"evens_doubled:\", evens_doubled)\n",
        "some_matrix = tf.constant([[1, 2, 3], [4, 5, 6]], dtype=tf.int32)\n",
        "print(some_matrix)\n",
        "print(\"\\nvalue of some_matrix is:\\n\", some_matrix.numpy())"
      ]
    }
  ]
}