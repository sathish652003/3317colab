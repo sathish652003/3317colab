{
  "nbformat": 4,
  "nbformat_minor": 0,
  "metadata": {
    "colab": {
      "provenance": [],
      "authorship_tag": "ABX9TyM61voMqtbWsOyCcT4RwBN5",
      "include_colab_link": true
    },
    "kernelspec": {
      "name": "python3",
      "display_name": "Python 3"
    },
    "language_info": {
      "name": "python"
    }
  },
  "cells": [
    {
      "cell_type": "markdown",
      "metadata": {
        "id": "view-in-github",
        "colab_type": "text"
      },
      "source": [
        "<a href=\"https://colab.research.google.com/github/sathish652003/3317colab/blob/main/exp_9.ipynb\" target=\"_parent\"><img src=\"https://colab.research.google.com/assets/colab-badge.svg\" alt=\"Open In Colab\"/></a>"
      ]
    },
    {
      "cell_type": "code",
      "source": [
        "import tensorflow as tf\n",
        "from tensorflow.keras.datasets import mnist\n",
        "from tensorflow.keras.models import Sequential\n",
        "from tensorflow.keras.layers import Conv2D, MaxPooling2D, Flatten, Dense, Dropout\n",
        "from tensorflow.keras.utils import to_categorical\n",
        "# Load and preprocess the dataset\n",
        "(x_train, y_train), (x_test, y_test) = mnist.load_data()\n",
        "x_train = x_train.reshape(x_train.shape[0], 28, 28, 1).astype('float32') / 255\n",
        "x_test = x_test.reshape(x_test.shape[0], 28, 28, 1).astype('float32') / 255\n",
        "y_train = to_categorical(y_train, 10)\n",
        "y_test = to_categorical(y_test, 10)\n",
        "# Build the CNN model\n",
        "model = Sequential()\n",
        "model.add(Conv2D(32, kernel_size=(3, 3), activation='relu',\n",
        "input_shape=(28, 28, 1)))\n",
        "model.add(MaxPooling2D(pool_size=(2, 2)))\n",
        "model.add(Conv2D(64, kernel_size=(3, 3), activation='relu'))\n",
        "model.add(MaxPooling2D(pool_size=(2, 2)))\n",
        "model.add(Flatten())\n",
        "model.add(Dense(128, activation='relu'))\n",
        "model.add(Dropout(0.5))\n",
        "model.add(Dense(10, activation='softmax'))\n",
        "# Compile the model\n",
        "model.compile(loss='categorical_crossentropy', optimizer='adam',\n",
        "metrics=['accuracy'])\n",
        "# Train the model\n",
        "model.fit(x_train, y_train, validation_data=(x_test, y_test), epochs=10,\n",
        "batch_size=200, verbose=2)\n",
        "# Evaluate the model\n",
        "test_loss, test_acc = model.evaluate(x_test, y_test, verbose=0)\n",
        "print(f'Test accuracy: {test_acc*100:.2f}%')"
      ],
      "metadata": {
        "colab": {
          "base_uri": "https://localhost:8080/"
        },
        "id": "yh6kNDq17Kw6",
        "outputId": "c75af7d5-2171-4802-f1b2-50d57734dfe2"
      },
      "execution_count": 9,
      "outputs": [
        {
          "output_type": "stream",
          "name": "stdout",
          "text": [
            "Epoch 1/10\n",
            "300/300 - 46s - loss: 0.3561 - accuracy: 0.8907 - val_loss: 0.0737 - val_accuracy: 0.9767 - 46s/epoch - 152ms/step\n",
            "Epoch 2/10\n",
            "300/300 - 43s - loss: 0.1090 - accuracy: 0.9677 - val_loss: 0.0455 - val_accuracy: 0.9846 - 43s/epoch - 143ms/step\n",
            "Epoch 3/10\n",
            "300/300 - 46s - loss: 0.0820 - accuracy: 0.9764 - val_loss: 0.0369 - val_accuracy: 0.9872 - 46s/epoch - 153ms/step\n",
            "Epoch 4/10\n",
            "300/300 - 44s - loss: 0.0659 - accuracy: 0.9806 - val_loss: 0.0310 - val_accuracy: 0.9892 - 44s/epoch - 145ms/step\n",
            "Epoch 5/10\n",
            "300/300 - 46s - loss: 0.0548 - accuracy: 0.9837 - val_loss: 0.0304 - val_accuracy: 0.9893 - 46s/epoch - 152ms/step\n",
            "Epoch 6/10\n",
            "300/300 - 43s - loss: 0.0486 - accuracy: 0.9852 - val_loss: 0.0321 - val_accuracy: 0.9886 - 43s/epoch - 143ms/step\n",
            "Epoch 7/10\n",
            "300/300 - 44s - loss: 0.0438 - accuracy: 0.9865 - val_loss: 0.0253 - val_accuracy: 0.9914 - 44s/epoch - 145ms/step\n",
            "Epoch 8/10\n",
            "300/300 - 44s - loss: 0.0394 - accuracy: 0.9876 - val_loss: 0.0270 - val_accuracy: 0.9902 - 44s/epoch - 146ms/step\n",
            "Epoch 9/10\n",
            "300/300 - 44s - loss: 0.0355 - accuracy: 0.9894 - val_loss: 0.0261 - val_accuracy: 0.9911 - 44s/epoch - 146ms/step\n",
            "Epoch 10/10\n",
            "300/300 - 44s - loss: 0.0322 - accuracy: 0.9902 - val_loss: 0.0255 - val_accuracy: 0.9915 - 44s/epoch - 146ms/step\n",
            "Test accuracy: 99.15%\n"
          ]
        }
      ]
    }
  ]
}